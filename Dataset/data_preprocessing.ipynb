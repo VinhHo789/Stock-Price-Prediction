{
 "cells": [
  {
   "cell_type": "code",
   "execution_count": 1,
   "metadata": {},
   "outputs": [],
   "source": [
    "import pandas as pd"
   ]
  },
  {
   "cell_type": "code",
   "execution_count": 4,
   "metadata": {},
   "outputs": [],
   "source": [
    "files = ['cmg', 'fpt', 'elc']\n",
    "for file in files:\n",
    "    df = pd.read_csv(file + '.csv');\n",
    "\n",
    "    # Remove other column\n",
    "    df = df[['Date', 'Price']]\n",
    "\n",
    "    df['Price'] = pd.to_numeric(df['Price'].str.replace(',', ''), errors='coerce')\n",
    "    \n",
    "    # Convert 'Date' column to datetime format\n",
    "    df['Date'] = pd.to_datetime(df['Date'])\n",
    "\n",
    "    # Set 'Date' as the index\n",
    "    df.set_index('Date', inplace=True)\n",
    "\n",
    "    # Create a complete date range including weekends\n",
    "    full_date_range = pd.date_range(start=df.index.min(), end=df.index.max(), freq='D')\n",
    "\n",
    "    # Reindex the DataFrame to include all dates in the range\n",
    "    df = df.reindex(full_date_range)\n",
    "\n",
    "    # Function to calculate the mean of 3 days before and 3 days after\n",
    "    def mean_fill(df):\n",
    "        for col in df.columns:\n",
    "            for i in range(len(df)):\n",
    "                if pd.isna(df.iloc[i][col]):\n",
    "                    # Collect the previous 5 non-null values\n",
    "                    prev_values = df[col].iloc[max(0, i - 5):i].dropna()\n",
    "                    if len(prev_values) >= 1:  # Ensure there is at least one previous value to calculate the mean\n",
    "                        df.iloc[i][col] = int(prev_values.mean())\n",
    "        return df\n",
    "\n",
    "    # Apply the mean fill function\n",
    "    df = mean_fill(df)\n",
    "\n",
    "    # Reset index to move 'Date' back to a column\n",
    "    df.reset_index(inplace=True)\n",
    "    df.rename(columns={'index': 'Date'}, inplace=True)\n",
    "    df.sort_index(inplace=True, ascending=True)\n",
    "\n",
    "    # Export DataFrame to CSV\n",
    "    df.to_csv(file + '_data_final' + '.csv', index=False)\n",
    "    \n"
   ]
  },
  {
   "cell_type": "code",
   "execution_count": null,
   "metadata": {},
   "outputs": [],
   "source": []
  }
 ],
 "metadata": {
  "kernelspec": {
   "display_name": "Python 3",
   "language": "python",
   "name": "python3"
  },
  "language_info": {
   "codemirror_mode": {
    "name": "ipython",
    "version": 3
   },
   "file_extension": ".py",
   "mimetype": "text/x-python",
   "name": "python",
   "nbconvert_exporter": "python",
   "pygments_lexer": "ipython3",
   "version": "3.10.12"
  }
 },
 "nbformat": 4,
 "nbformat_minor": 2
}
